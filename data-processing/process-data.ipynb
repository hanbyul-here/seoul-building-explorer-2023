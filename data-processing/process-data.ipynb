{
 "cells": [
  {
   "cell_type": "markdown",
   "metadata": {},
   "source": [
    "⚠️ 이 노트북은 서울 건물연식지도 데이터 전처리 과정을 공유하기 위해서 작성되었습니다. 리포에 원본 데이터를 커밋하지 않았으므로 바로 실행되지 않습니다. "
   ]
  },
  {
   "cell_type": "code",
   "execution_count": null,
   "metadata": {},
   "outputs": [],
   "source": [
    "import geopandas as gpd\n",
    "import numpy as np\n",
    "import pandas as pd\n",
    "import matplotlib.colors as mc\n",
    "import os\n",
    "from lonboard.geoarrow.geopandas_interop import geopandas_to_geoarrow\n",
    "import pyarrow as pa\n"
   ]
  },
  {
   "cell_type": "markdown",
   "metadata": {},
   "source": [
    "### Read Building data 2017/2024"
   ]
  },
  {
   "cell_type": "code",
   "execution_count": null,
   "metadata": {},
   "outputs": [],
   "source": [
    "b_2023_origin = gpd.read_file('./F_FAC_BUILDING_서울.zip', engine=\"pyogrio\", encoding='euc-kr')"
   ]
  },
  {
   "cell_type": "code",
   "execution_count": null,
   "metadata": {},
   "outputs": [],
   "source": [
    "b_2023_origin.shape"
   ]
  },
  {
   "cell_type": "code",
   "execution_count": null,
   "metadata": {},
   "outputs": [],
   "source": [
    "b_2023 = b_2023_origin.copy()\n",
    "b_2023 = b_2023.to_crs(4326)"
   ]
  },
  {
   "cell_type": "markdown",
   "metadata": {},
   "source": [
    "#### Filter out outliars manually"
   ]
  },
  {
   "cell_type": "code",
   "execution_count": null,
   "metadata": {},
   "outputs": [],
   "source": [
    "b_2023 = b_2023[b_2023.UFID !='2020202526764540434800000000']\n",
    "b_2023 = b_2023[b_2023.UFID !='2019202463904539575400000000']"
   ]
  },
  {
   "cell_type": "markdown",
   "metadata": {},
   "source": [
    "#### Give arbiturary value to the buildings with unlikely HEIGHT value"
   ]
  },
  {
   "cell_type": "code",
   "execution_count": null,
   "metadata": {},
   "outputs": [],
   "source": [
    "b_2023.loc[b_2023['HEIGHT'] > 10000, 'HEIGHT'] = 5"
   ]
  },
  {
   "cell_type": "code",
   "execution_count": null,
   "metadata": {},
   "outputs": [],
   "source": [
    "b_2017_origin = gpd.read_file('./building_2017.geojson', engine=\"pyogrio\")\n",
    "b_2017 = b_2017_origin.copy()"
   ]
  },
  {
   "cell_type": "code",
   "execution_count": null,
   "metadata": {},
   "outputs": [],
   "source": [
    "b_2023_origin[b_2023_origin.UFID =='2020202526764540434800000000'].area"
   ]
  },
  {
   "cell_type": "markdown",
   "metadata": {},
   "source": [
    "#### Read helper data"
   ]
  },
  {
   "cell_type": "code",
   "execution_count": null,
   "metadata": {},
   "outputs": [],
   "source": [
    "dong_code = pd.read_csv('./dc.txt', delimiter='\\t')"
   ]
  },
  {
   "cell_type": "markdown",
   "metadata": {},
   "source": [
    "### Slim down 2023 data - GeoJSON - pmtiles (Prerequisite: Tippecanoe )"
   ]
  },
  {
   "cell_type": "markdown",
   "metadata": {},
   "source": [
    "### Assign 법정동 to buildings"
   ]
  },
  {
   "cell_type": "code",
   "execution_count": null,
   "metadata": {},
   "outputs": [],
   "source": [
    "dong_code['bd_code'] = dong_code['법정동코드'].astype(str).str[:10]\n",
    "b_2023['bd_code'] = b_2023['BD_MGT_SN'].astype(str).str[:10]\n",
    "# bw_dong = b_2023.join(dong_code, lsuffix='l', rsuffix='r')\n",
    "bw_dong = pd.merge(b_2023, dong_code, on='bd_code', how='left')\n",
    "bw_dong['BEONJI'] = b_2023['BD_MGT_SN'].str[11:19]\n",
    "bw_dong['DONG'] = bw_dong['법정동명']\n",
    "\n",
    "bw_dong['APR_Y'] = bw_dong['USEAPR_DAY'].str[:4]\n",
    "bw_dong['APR_Y'] = bw_dong['APR_Y'].astype(float)\n",
    "\n",
    "bw_dong_s = bw_dong[['DONG','BEONJI','APR_Y', 'USEAPR_DAY', 'HEIGHT', 'BLD_NM', 'geometry']]"
   ]
  },
  {
   "cell_type": "code",
   "execution_count": null,
   "metadata": {},
   "outputs": [],
   "source": [
    "# Check if the data was processed as expected: 석탄회관 - 수송동 80-6\n",
    "bw_dong_s[bw_dong_s.BLD_NM =='석탄회관']"
   ]
  },
  {
   "cell_type": "markdown",
   "metadata": {},
   "source": [
    "#### Centroids"
   ]
  },
  {
   "cell_type": "code",
   "execution_count": null,
   "metadata": {},
   "outputs": [],
   "source": [
    "bc_2023 = b_2023.copy()\n",
    "centroids_2023 = b_2023['geometry'].centroid\n",
    "bc_2023['geometry'] = centroids_2023\n",
    "\n",
    "bc_2017 = b_2017.copy()\n",
    "centroids_2017 = b_2017['geometry'].centroid\n",
    "bc_2017['geometry'] = centroids_2017"
   ]
  },
  {
   "cell_type": "markdown",
   "metadata": {},
   "source": [
    "#### Get rid of null data from centroids"
   ]
  },
  {
   "cell_type": "code",
   "execution_count": null,
   "metadata": {},
   "outputs": [],
   "source": [
    "bc_2017 = bc_2017[bc_2017['USEAPR_DAY'] != '0']\n",
    "bc_2023 = bc_2023[~bc_2023['USEAPR_DAY'].isna()]"
   ]
  },
  {
   "cell_type": "markdown",
   "metadata": {},
   "source": [
    "### Write processed files"
   ]
  },
  {
   "cell_type": "code",
   "execution_count": null,
   "metadata": {},
   "outputs": [],
   "source": [
    "file_path_2023 = './output/bd_2023.geojson'\n",
    "file_path_2017 = './building_2017.geojson'\n",
    "\n",
    "file_path_2023c = './output/bdc_2023.geojson'\n",
    "file_path_2017c = './output/bdc_2017.geojson'\n",
    "\n",
    "bw_dong_s.to_file(file_path_2023)\n",
    "bc_2017.to_file(file_path_2017c)\n",
    "bc_2023.to_file(file_path_2023c)"
   ]
  },
  {
   "cell_type": "markdown",
   "metadata": {},
   "source": [
    "#### Group with 법정동"
   ]
  },
  {
   "cell_type": "code",
   "execution_count": null,
   "metadata": {},
   "outputs": [],
   "source": [
    "# File from https://www.vworld.kr/dtmk/dtmk_ntads_s002.do?dsId=30603\n",
    "dong_origin = gpd.read_file('./LSMD_ADM_SECT_UMD_서울.zip', engine='pyogrio', encoding='euc-kr') \n",
    "dong = dong_origin[['EMD_CD','EMD_NM', 'geometry']]\n",
    "dong = dong.to_crs('4326')\n"
   ]
  },
  {
   "cell_type": "code",
   "execution_count": null,
   "metadata": {},
   "outputs": [],
   "source": [
    "b_2023['APR_Y'] = b_2023['USEAPR_DAY'].str[:4]\n",
    "b_2023['APR_Y'] = b_2023['APR_Y'].astype(float)"
   ]
  },
  {
   "cell_type": "code",
   "execution_count": null,
   "metadata": {},
   "outputs": [],
   "source": [
    "joined_2023 = dong.sjoin(b_2023)\n",
    "jg_2023 = joined_2023.groupby(['EMD_CD']).agg({'APR_Y': 'mean'})\n",
    "jg_dong = gpd.GeoDataFrame(dong.merge(jg_2023.reset_index()))"
   ]
  },
  {
   "cell_type": "code",
   "execution_count": null,
   "metadata": {},
   "outputs": [],
   "source": [
    "jg_dong.to_file('./output/dong_2023.geojson')"
   ]
  },
  {
   "cell_type": "code",
   "execution_count": null,
   "metadata": {},
   "outputs": [],
   "source": [
    "joined_2017 = dong.sjoin(b_2017)\n",
    "joined_2017['Year'] = joined_2017['Year'].replace(0, None)\n",
    "jg_2017 = joined_2017.groupby(['EMD_CD'], dropna=False).agg({'Year': 'mean'})\n",
    "jg_dong_2017 = gpd.GeoDataFrame(dong.merge(jg_2017.reset_index()))\n",
    "\n",
    "\n",
    "# Merge the aggregated results back to the original dong GeoDataFrame\n",
    "# Assuming dong has a column EMD_CD to match on\n",
    "jg_dong_2017 = gpd.GeoDataFrame(dong.merge(jg_2017, on='EMD_CD', how='left'))"
   ]
  },
  {
   "cell_type": "code",
   "execution_count": null,
   "metadata": {},
   "outputs": [],
   "source": [
    "jg_dong_2017.to_file('./output/dong_2017.geojson')"
   ]
  },
  {
   "cell_type": "markdown",
   "metadata": {},
   "source": [
    "#### Generate pmtiles"
   ]
  },
  {
   "cell_type": "code",
   "execution_count": null,
   "metadata": {},
   "outputs": [],
   "source": [
    "command = \"tippecanoe -z 16 -Z 14 -d 16 -l bd_2023 -o ./output/bd_2023.pmtiles --drop-densest-as-needed --extend-zooms-if-still-dropping --maximum-zoom=16 \" + file_path_2023\n",
    "os.system(command)"
   ]
  },
  {
   "cell_type": "code",
   "execution_count": null,
   "metadata": {},
   "outputs": [],
   "source": [
    "command = \"tippecanoe -z 16 -Z 14 -d 16 -l bd_2017 -o ./output/bd_2017.pmtiles --drop-densest-as-needed --extend-zooms-if-still-dropping --maximum-zoom=16 \" + file_path_2017\n",
    "os.system(command)"
   ]
  },
  {
   "cell_type": "markdown",
   "metadata": {},
   "source": [
    "##### PMtiles - Centroid data"
   ]
  },
  {
   "cell_type": "code",
   "execution_count": null,
   "metadata": {},
   "outputs": [],
   "source": [
    "command = \"tippecanoe --drop-rate=1 --no-line-simplification --no-feature-limit --no-tile-size-limit  -z 14 -Z 10 -l bdc_2023 -o ./output/bdc_2023.pmtiles \" + file_path_2023c\n",
    "#\" --drop-densest-as-needed --extend-zooms-if-still-dropping \" + file_path_2023c\n",
    "os.system(command)"
   ]
  },
  {
   "cell_type": "code",
   "execution_count": null,
   "metadata": {},
   "outputs": [],
   "source": [
    "command = \"tippecanoe --drop-rate=1 --no-line-simplification --no-feature-limit --no-tile-size-limit -z 14 -Z 10 -l bdc_2017 -o ./output/bdc_2017.pmtiles --drop-densest-as-needed --extend-zooms-if-still-dropping \" + file_path_2017c\n",
    "os.system(command)"
   ]
  },
  {
   "cell_type": "markdown",
   "metadata": {},
   "source": [
    "### Bonus: Generate GeoParquet"
   ]
  },
  {
   "cell_type": "code",
   "execution_count": null,
   "metadata": {},
   "outputs": [],
   "source": [
    "gpq_b_2023 = b_2023.copy()"
   ]
  },
  {
   "cell_type": "markdown",
   "metadata": {},
   "source": [
    "#### Color helper"
   ]
  },
  {
   "cell_type": "code",
   "execution_count": null,
   "metadata": {},
   "outputs": [],
   "source": [
    "viridis =  [\"#440154\", \"#482475\", \"#414287\", \"#355e8d\", \"#2a768e\", \"#218e8d\", \"#21a585\", \"#3dbc74\", \"#70cf57\", \"#b0dd2f\"]\n",
    "viridis.reverse()\n",
    "rgb_colors = []\n",
    "for h in viridis:\n",
    "  rgb_colors.append([int(m *255) for m in mc.to_rgba(h)]) # rgba / rgb matters?\n",
    "rgb_colors"
   ]
  },
  {
   "cell_type": "code",
   "execution_count": null,
   "metadata": {},
   "outputs": [],
   "source": [
    "def get_color(row):\n",
    "  year = row['APR_Y']\n",
    "  if ((np.isnan(year)) or (year < 1850)):\n",
    "    return [100,100,100,255]\n",
    "  cidx = int((year - 1930)/10)\n",
    "  if cidx > 9:\n",
    "    cidx = 9\n",
    "  if cidx < 0:\n",
    "    cidx = 0;\n",
    "  return rgb_colors[cidx]\n",
    "\n",
    "color_cols = gpq_b_2023.apply(get_color, axis=1)"
   ]
  },
  {
   "cell_type": "code",
   "execution_count": null,
   "metadata": {},
   "outputs": [],
   "source": [
    "# Convert the color_column to NumPy array\n",
    "#gpq_b_2023['color_column'] = gpq_b_2023['color'].apply(np.array, dtype=np.uint8)\n",
    "\n",
    "color_array = np.stack(color_cols.values) # necessary?"
   ]
  },
  {
   "cell_type": "code",
   "execution_count": null,
   "metadata": {},
   "outputs": [],
   "source": [
    "s_arrow = geopandas_to_geoarrow(gpq_b_2023, preserve_index=False)\n",
    "s_arrow = s_arrow.append_column(\n",
    "    \"color\", pa.FixedSizeListArray.from_arrays(color_array.flatten('C'), 4)\n",
    ")\n"
   ]
  },
  {
   "cell_type": "code",
   "execution_count": null,
   "metadata": {},
   "outputs": [],
   "source": [
    "pa.parquet.write_table(s_arrow, './output/bd_2023.parquet')"
   ]
  }
 ],
 "metadata": {
  "kernelspec": {
   "display_name": "py310",
   "language": "python",
   "name": "python3"
  },
  "language_info": {
   "codemirror_mode": {
    "name": "ipython",
    "version": 3
   },
   "file_extension": ".py",
   "mimetype": "text/x-python",
   "name": "python",
   "nbconvert_exporter": "python",
   "pygments_lexer": "ipython3",
   "version": "3.10.11"
  }
 },
 "nbformat": 4,
 "nbformat_minor": 2
}
